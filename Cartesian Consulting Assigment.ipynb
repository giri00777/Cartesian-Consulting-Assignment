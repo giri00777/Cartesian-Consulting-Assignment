{
 "cells": [
  {
   "cell_type": "markdown",
   "id": "046ba387",
   "metadata": {},
   "source": [
    "#  PYTHON\n"
   ]
  },
  {
   "cell_type": "code",
   "execution_count": 3,
   "id": "5e81d6af",
   "metadata": {},
   "outputs": [
    {
     "name": "stdout",
     "output_type": "stream",
     "text": [
      "This declaration represents a political commitment among declaration partners to advance a positive vision for the Internet in this era of a united europe\n",
      "Printing word in reverse:\n",
      "\n",
      "Europe united a of era this in internet the for vision positive a advance to partners declaration among commitment political a represents declaration this\n",
      "\n",
      "Occurrence of words:\n",
      "\n",
      "a : 3 times\n",
      "this : 2 times\n"
     ]
    }
   ],
   "source": [
    "from statistics import mode\n",
    "M = input().lower().split(' ')\n",
    "M.reverse()\n",
    "M[0] = M[0].capitalize()\n",
    "print('Printing word in reverse:')\n",
    "print()\n",
    "print(*M)\n",
    "print()\n",
    "print('Occurrence of words:')\n",
    "print()\n",
    "temp = [wrd for sub in M for wrd in sub.split()]\n",
    "print(mode(temp),':',str(M.count(mode(temp))),'times')\n",
    "temp = [i for i in temp if i != mode(temp)]\n",
    "print(mode(temp),':',str(M.count(mode(temp))),'times')"
   ]
  },
  {
   "cell_type": "markdown",
   "id": "6bddb31b",
   "metadata": {},
   "source": [
    "# ASSIGMENT USING UNIX SHELL PROGRAMMING\n",
    "\n",
    "ASSIGMENT - 02UNIX"
   ]
  },
  {
   "cell_type": "code",
   "execution_count": null,
   "id": "c31a40ae",
   "metadata": {},
   "outputs": [],
   "source": [
    "mkdir grocery\n",
    "cd grocery\n",
    "pwd\n",
    "cat purchase_history_02Jan21.txt\n",
    "cat purchase_history_03Jan21.txt \n",
    "cat purchase_history_31Jan21.txt \n",
    "cat purchase_history_02Jan21.txt purchase_history_03Jan21.txt purchase_history_31Jan21.txt >>purchase_history_JanAll.txt"
   ]
  }
 ],
 "metadata": {
  "kernelspec": {
   "display_name": "Python 3 (ipykernel)",
   "language": "python",
   "name": "python3"
  },
  "language_info": {
   "codemirror_mode": {
    "name": "ipython",
    "version": 3
   },
   "file_extension": ".py",
   "mimetype": "text/x-python",
   "name": "python",
   "nbconvert_exporter": "python",
   "pygments_lexer": "ipython3",
   "version": "3.9.7"
  }
 },
 "nbformat": 4,
 "nbformat_minor": 5
}
